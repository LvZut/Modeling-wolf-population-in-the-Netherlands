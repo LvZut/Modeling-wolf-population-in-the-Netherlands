{
 "cells": [
  {
   "cell_type": "markdown",
   "metadata": {},
   "source": [
    "# 1 prey 1 predator model (Wild Boar and Wolf)"
   ]
  },
  {
   "cell_type": "code",
   "execution_count": 1,
   "metadata": {},
   "outputs": [],
   "source": [
    "import numpy as np\n",
    "import matplotlib.pyplot as plt\n",
    "import ipywidgets as widgets\n",
    "from IPython.display import display\n",
    "from scipy import signal, integrate, stats"
   ]
  },
  {
   "cell_type": "code",
   "execution_count": 2,
   "metadata": {},
   "outputs": [],
   "source": [
    "# Wild boar and wolf\n",
    "alpha2 = 6.22 # Birth rate prey \n",
    "beta2 = 12.4/182.75  # Death rate prey\n",
    "gamma2 = 25/26 # Death rate predator\n",
    "delta2 = 0.0356 # Grow rate predator\n",
    "\n",
    "# Time * step = amount of years simulated\n",
    "time2 = 1000000 \n",
    "step2 = 0.0001\n",
    "\n",
    "# Initial populations\n",
    "init_wolf2 = 1\n",
    "init_boar2 = 500"
   ]
  },
  {
   "cell_type": "code",
   "execution_count": 3,
   "metadata": {},
   "outputs": [],
   "source": [
    "def wolf_eq(gamma, delta, w, z, step):\n",
    "    \"\"\"Differential equation for the wolf population.\"\"\"\n",
    "    return step * w * (-gamma + delta*z)\n",
    "\n",
    "\n",
    "def boar_eq(alpha, beta, w, z, step):\n",
    "    \"\"\"Differential equation for the wild boar population.\"\"\"\n",
    "    return step * z * (alpha - beta*w)"
   ]
  },
  {
   "cell_type": "code",
   "execution_count": 4,
   "metadata": {},
   "outputs": [
    {
     "data": {
      "application/vnd.jupyter.widget-view+json": {
       "model_id": "bf4ceb753c4f47d5a5fc9ae85e1296e7",
       "version_major": 2,
       "version_minor": 0
      },
      "text/plain": [
       "interactive(children=(IntSlider(value=1, description='init_wolf2'), IntSlider(value=300, description='init_boa…"
      ]
     },
     "metadata": {},
     "output_type": "display_data"
    }
   ],
   "source": [
    "def update_single_prey(init_wolf2, init_boar2, alpha2, beta2, gamma2, delta2, step2):\n",
    "    \"\"\"Plot lotka-volterra equations for 1 predator and 1 prey population.\"\"\"\n",
    "    # Initialize the initial populations.\n",
    "    wolf2 = [init_wolf2]\n",
    "    boar2 = [init_boar2]\n",
    "\n",
    "    num_wolf2 = init_wolf2\n",
    "    num_boar2 = init_boar2\n",
    "    \n",
    "    # Calculate the data points and store them in an array.\n",
    "    for n in range(time2):\n",
    "        dwolf2 = wolf_eq(gamma2, delta2, num_wolf2, num_boar2, step2)\n",
    "        dboar2 = boar_eq(alpha2, beta2, num_wolf2, num_boar2, step2)\n",
    "        num_wolf2 += dwolf2\n",
    "        num_boar2 += dboar2\n",
    "        wolf2.append(num_wolf2)\n",
    "        boar2.append(num_boar2)\n",
    "        \n",
    "    \n",
    "    # Make the time array to set as the x-values.\n",
    "    t2 = range(time2+1)\n",
    "    t2 = [step2*x for x in t2]\n",
    "    \n",
    "    # Plot the figure.\n",
    "    plt.figure(figsize=(12,8))\n",
    "    plt.plot(t2, wolf2)\n",
    "    plt.plot(t2, boar2)\n",
    "    plt.ylabel('Number of animals')\n",
    "    plt.xlabel('Time (years)')\n",
    "    plt.title('Wolf-Wild boar model', fontsize=20)\n",
    "    plt.legend(['Wolf', 'Wild boar'], loc='upper left')\n",
    "    plt.show()\n",
    "\n",
    "# Create sliders for all variables so that the plot can be updated easily.\n",
    "iwolf2_slider = widgets.IntSlider(value=init_wolf2, min=0, max=100, step=1)\n",
    "iboar2_slider = widgets.IntSlider(value=init_boar2, min=0, max=300, step=1)\n",
    "a2_slider = widgets.FloatSlider(value=alpha2, min=0, max=1, step=0.01)\n",
    "b2_slider = widgets.FloatSlider(value=beta2, min=0, max=1, step=0.01)\n",
    "g2_slider = widgets.FloatSlider(value=gamma2, min=0, max=1, step=0.01)\n",
    "d2_slider = widgets.FloatSlider(value=delta2, min=0, max=1, step=0.01)\n",
    "s2_slider = widgets.FloatSlider(value=step2, min=0, max=10, step=0.001)\n",
    "\n",
    "# Draw the sliders and set them to the correct variable.\n",
    "widgets.interact_manual(update_single_prey, init_wolf2=iwolf2_slider, init_boar2=iboar2_slider, alpha2 = a2_slider,\n",
    "                        beta2 = b2_slider, gamma2 = g2_slider, delta2 = d2_slider, step2=s2_slider);"
   ]
  },
  {
   "cell_type": "markdown",
   "metadata": {},
   "source": [
    "# Lotka-Volterra Vector Field (1 prey 1 predator) "
   ]
  },
  {
   "cell_type": "code",
   "execution_count": 5,
   "metadata": {},
   "outputs": [],
   "source": [
    "alpha3 = 9/11 # Birth rate prey \n",
    "beta3 = 48.6/365.25 # Death rate prey\n",
    "gamma3 = 25/26 # Death rate predator\n",
    "delta3 = 0.0356 # Grow rate predator\n",
    "\n",
    "max_prey = 50 # Maximum begin population of prey\n",
    "max_pred = 15 # Maximum begin population of predators\n",
    "\n",
    "arrow_density = 2 # Number of arrows per 1 unit\n",
    "\n",
    "# Make a sample starting point.\n",
    "sample_pred = 7\n",
    "sample_prey = 29\n",
    "sample_length = 400\n",
    "sample_step = 0.1\n",
    "arrows = True\n",
    "arrow_distance = 10"
   ]
  },
  {
   "cell_type": "code",
   "execution_count": 6,
   "metadata": {},
   "outputs": [
    {
     "data": {
      "application/vnd.jupyter.widget-view+json": {
       "model_id": "e3108f90f3264e31a1b01011cc5af816",
       "version_major": 2,
       "version_minor": 0
      },
      "text/plain": [
       "interactive(children=(FloatSlider(value=0.8181818181818182, description='alpha3', max=1.0, step=0.01), FloatSl…"
      ]
     },
     "metadata": {},
     "output_type": "display_data"
    }
   ],
   "source": [
    "def update_vector(alpha3, beta3, gamma3, delta3, max_prey, max_pred, arrow_density,\n",
    "                  sample_pred, sample_prey, sample_length, sample_step, arrows, arrow_distance):\n",
    "    \"\"\"Plots a vector field for different initial populations of 1 predator and 1 prey.\"\"\"\n",
    "    \n",
    "    # Calculate the stable initial populations for the given coefficients.\n",
    "    stable_pred = alpha3 / beta3\n",
    "    stable_prey = gamma3 / delta3\n",
    "    print('The stable point (besides (0,0)) is at %.2f initial preys and %.2f initial predators.' \n",
    "          % (stable_prey, stable_pred))\n",
    "\n",
    "    # Check stability in the differential equations.\n",
    "    print('Predator difference (should be 0): %.2f' % wolf_eq(gamma3, delta3, stable_pred, stable_prey, 1))\n",
    "    print('Prey difference (should be 0): %.2f' % boar_eq(alpha3, beta3, stable_pred, stable_prey, 1))\n",
    "    \n",
    "    # Initialize the field and the arrays for change in predator and prey populations.\n",
    "    X, Y = np.meshgrid(np.arange(0, max_prey, 1/arrow_density), np.arange(0, max_pred, 1/arrow_density))\n",
    "    U = np.zeros(X.shape)\n",
    "    V = np.zeros(X.shape)\n",
    "    \n",
    "    # Make the data for the vector directions.\n",
    "    for r in range(max_prey * arrow_density):\n",
    "        for c in range(max_pred * arrow_density):\n",
    "            U[c][r] = boar_eq(alpha3, beta3, c/arrow_density, r/arrow_density, 1) \n",
    "            V[c][r] = wolf_eq(gamma3, delta3, c/arrow_density, r/arrow_density, 1) \n",
    "            norm = np.sqrt((U[c][r])**2 + (V[c][r])**2)\n",
    "            if norm != 0:\n",
    "                U[c][r] = U[c][r] / norm\n",
    "                V[c][r] = V[c][r] / norm\n",
    "    \n",
    "    # Calculate how the sample initial point changes with time. \n",
    "    s_prey = [sample_prey]\n",
    "    s_pred = [sample_pred]\n",
    "    for t in range(sample_length):\n",
    "        cur_prey = s_prey[-1]\n",
    "        cur_pred = s_pred[-1]\n",
    "        s_prey.append(cur_prey + boar_eq(alpha3, beta3, cur_pred, cur_prey, sample_step))\n",
    "        s_pred.append(cur_pred + wolf_eq(gamma3, delta3, cur_pred, cur_prey, sample_step))\n",
    "    \n",
    "    # Plot the vectors with the quiver function.\n",
    "    plt.figure(figsize=(15,14))\n",
    "    plt.quiver(X, Y, U, V, scale=90, width=0.0015, color='b') # bigger scale is smaller arrows\n",
    "\n",
    "    # Draw the sample line.\n",
    "    plt.plot(s_prey, s_pred, 'r-')\n",
    "\n",
    "    # Draw starting point as a dot.\n",
    "    plt.plot(sample_prey, sample_pred, 'ro')\n",
    "\n",
    "    # Draw arrows in line. \n",
    "    if arrows:\n",
    "        for i in range(9, sample_length, arrow_distance):\n",
    "            if i+1 < sample_length:\n",
    "                plt.arrow(s_prey[i], s_pred[i], s_prey[i+1]-s_prey[i], s_pred[i+1]-s_pred[i], color='r', head_width=0.2)\n",
    "    \n",
    "    # Draw information on the plot and show it.\n",
    "    plt.legend(['Example start point (%d prey, %d predators)' % (sample_prey, sample_pred)])\n",
    "    plt.ylabel('Predator population')\n",
    "    plt.xlabel('Prey population')\n",
    "    plt.title('Vector Field of Lotka-Volterra equation', fontsize=20)\n",
    "    plt.show()\n",
    "\n",
    "\n",
    "# Make all the sliders for the different variables so that the plot can be updated easily.\n",
    "a3_slider = widgets.FloatSlider(value=alpha3, min=0, max=1, step=0.01)\n",
    "b3_slider = widgets.FloatSlider(value=beta3, min=0, max=1, step=0.01)\n",
    "g3_slider = widgets.FloatSlider(value=gamma3, min=0, max=1, step=0.01)\n",
    "d3_slider = widgets.FloatSlider(value=delta3, min=0, max=1, step=0.01)\n",
    "maxpred_slider = widgets.IntSlider(value=max_pred, min=0, max=100, step=1)\n",
    "maxprey_slider = widgets.IntSlider(value=max_prey, min=0, max=300, step=1)\n",
    "\n",
    "arrowdense_slider = widgets.IntSlider(value=arrow_density, min=0, max=10, step=1)\n",
    "\n",
    "sampred_slider = widgets.IntSlider(value=sample_pred, min=0, max=100, step=1)\n",
    "samprey_slider = widgets.IntSlider(value=sample_prey, min=0, max=100, step=1)\n",
    "samplen_slider = widgets.IntSlider(value=sample_length, min=0, max=1000, step=10)\n",
    "\n",
    "sampstep_slider = widgets.FloatSlider(value=sample_step, min=0, max=10, step=0.001)\n",
    "arrowdist_slider = widgets.IntSlider(value=arrow_distance, min=0, max=100, step=1)\n",
    "\n",
    "# Draw the sliders and set them to the correct variable.\n",
    "widgets.interact_manual(update_vector, alpha3=a3_slider, beta3=b3_slider, gamma3=g3_slider, delta3=d3_slider, \n",
    "                max_prey=maxprey_slider, max_pred=maxpred_slider, arrow_density=arrowdense_slider,\n",
    "                sample_pred=sampred_slider, sample_prey=samprey_slider, sample_length=samplen_slider, \n",
    "                sample_step=sampstep_slider, arrows=True, arrow_distance=arrowdist_slider);"
   ]
  },
  {
   "cell_type": "code",
   "execution_count": null,
   "metadata": {},
   "outputs": [],
   "source": []
  }
 ],
 "metadata": {
  "kernelspec": {
   "display_name": "Python 3",
   "language": "python",
   "name": "python3"
  },
  "language_info": {
   "codemirror_mode": {
    "name": "ipython",
    "version": 3
   },
   "file_extension": ".py",
   "mimetype": "text/x-python",
   "name": "python",
   "nbconvert_exporter": "python",
   "pygments_lexer": "ipython3",
   "version": "3.6.9"
  }
 },
 "nbformat": 4,
 "nbformat_minor": 4
}
