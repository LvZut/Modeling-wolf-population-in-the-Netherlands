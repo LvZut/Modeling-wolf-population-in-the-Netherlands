{
 "cells": [
  {
   "cell_type": "markdown",
   "metadata": {},
   "source": [
    "## Lotka-Volterra 1 predator 1 prey test\n",
    "\n",
    "### Roe Deer and Wolf"
   ]
  },
  {
   "cell_type": "code",
   "execution_count": 1,
   "metadata": {},
   "outputs": [],
   "source": [
    "import numpy as np\n",
    "import matplotlib.pyplot as plt\n",
    "import ipywidgets as widgets\n",
    "from IPython.display import display\n",
    "from ipywidgets import *\n",
    "from random import randint\n",
    "import scipy\n",
    "from scipy import signal\n",
    "\n",
    "# Roe deer and wolf\n",
    "alpha1 = 9/11 # Birth rate roe deer\n",
    "beta1 = 0.631*4.86/365.25 # Death rate roe deer\n",
    "gamma1 =  25/26 # Death rate wolf\n",
    "delta1 = 0.00356 *0.7*0.5 # Grow rate wolf based on roe deer\n",
    "epsilon1 = 0.00356 *0.3*0.5 # Grow rate predator based on wild board\n",
    "eta1 = 4.56 # 6.22 Brith rate wild boar\n",
    "zeta1 = 5.8*0.6*4.86/365.25# 12.4/365.25 # Death rate wild boar\n",
    "\n",
    "# alpha1 = 0.6 #/365.25 # Birth rate roe deer\n",
    "# beta1 = 0.4 #/365.25 # Death rate roe deer\n",
    "# gamma1 = 0.8 #/365.25 # Death rate wolf\n",
    "# delta1 = 0.4 #/365.25 # Grow rate wolf based on roe deer\n",
    "# epsilon1 = 0.4 #/365.25 # Grow rate predator based on wild board\n",
    "# eta1 = 0.3 #/365.25 # Brith rate wild boar\n",
    "# zeta1 = 0.3 #/365.25 # Death rate wild boar\n",
    "\n",
    "# Time * step = amount of years\n",
    "time = 36525 #18263#7305 36525 # Approx. amount of days in 100 years\n",
    "step1 = 1/365.25 # 1 day\n",
    "\n",
    "# Initial populations\n",
    "init_pred = 10\n",
    "init_prey1 = 2500\n",
    "init_prey12 = 500\n",
    "\n",
    "# Differential equation predator population\n",
    "def pred_eq(gamma, delta, epsilon, w, r, z, step):\n",
    "    return step * w * (-gamma + delta*r + epsilon*z) \n",
    "\n",
    "# Differential equation prey1 population\n",
    "def prey1_eq(alpha, beta, w, r, step):\n",
    "    return step * r * (alpha - beta*w)\n",
    "\n",
    "# Differential equation prey2 population\n",
    "def prey2_eq(eta, zeta, w, z, step):\n",
    "    return step * z * (eta - zeta*w)"
   ]
  },
  {
   "cell_type": "code",
   "execution_count": 2,
   "metadata": {},
   "outputs": [],
   "source": [
    "def plot_figure(t, pred, prey1, prey12, title, plot_prey):\n",
    "    plt.figure(figsize=(12,8))\n",
    "    plt.plot(t, pred)\n",
    "    legend_list = ['Wolf']\n",
    "    \n",
    "    if plot_prey:\n",
    "        plt.plot(t, prey12)\n",
    "        plt.plot(t, prey1)\n",
    "        legend_list = ['Wolf', 'Roe deer', 'Wild boar']\n",
    "    \n",
    "    plt.ylabel('Number of animals')\n",
    "    plt.xlabel('Time (years)')\n",
    "    plt.title(title, fontsize=20)\n",
    "    plt.legend(legend_list, loc='upper left')\n",
    "    plt.show()"
   ]
  },
  {
   "cell_type": "code",
   "execution_count": 3,
   "metadata": {},
   "outputs": [],
   "source": [
    "def setup_sliders(init_pred, init_prey1, init_prey12, alpha1, beta1, gamma1, delta1, epsilon1, eta1, zeta1, step1):\n",
    "    ipred_slider = widgets.IntSlider(value=init_pred, min=0, max=100, step=1)\n",
    "    iprey1_slider = widgets.IntSlider(value=init_prey1, min=0, max=5000, step=1)\n",
    "    iprey12_slider = widgets.IntSlider(value=init_prey12, min=0, max=300, step=1)\n",
    "    a1_slider = widgets.FloatSlider(value=alpha1, min=0, max=3, step=0.1)\n",
    "    b1_slider = widgets.FloatSlider(value=beta1, min=0, max=3, step=0.1)\n",
    "    g1_slider = widgets.FloatSlider(value=gamma1, min=0, max=3, step=0.1)\n",
    "    d1_slider = widgets.FloatSlider(value=delta1, min=0, max=0.2, step=0.01)\n",
    "    e1_slider = widgets.FloatSlider(value=epsilon1, min=0, max=0.2, step=0.01)\n",
    "    et1_slider = widgets.FloatSlider(value=eta1, min=0, max=7, step=0.1)\n",
    "    z1_slider = widgets.FloatSlider(value=zeta1, min=0, max=3, step=0.01)\n",
    "    s1_slider = widgets.FloatSlider(value=step1, min=0, max=0.005, step=0.0001)\n",
    "    period_slider = widgets.IntSlider(value=365, min=0, max=1095, step=1)\n",
    "    pop_coef_slider = widgets.FloatSlider(value=0.9, min=0, max=3, step=0.1)\n",
    "    scale_slider = widgets.IntSlider(value=1, min=1, max=100, step=1)\n",
    "    plot_prey_checkbox = widgets.Checkbox(value=True, disabled=False)\n",
    "    \n",
    "    return [ipred_slider, iprey1_slider, iprey12_slider, \n",
    "            a1_slider, b1_slider, g1_slider, d1_slider, \n",
    "            e1_slider, et1_slider, z1_slider, s1_slider, \n",
    "            period_slider, pop_coef_slider, scale_slider, plot_prey_checkbox]"
   ]
  },
  {
   "cell_type": "code",
   "execution_count": 4,
   "metadata": {},
   "outputs": [],
   "source": [
    "def veryfication(init_pred, init_prey1, init_prey12, alpha1, beta1, gamma1, \n",
    "           delta1, epsilon1, eta1, zeta1, step1, per, pop_coef1, \n",
    "            shoot_deer, introduce_wolf, title, scale, plot_prey):\n",
    "    \n",
    "    update(init_pred, init_prey1, init_prey12, alpha1, beta1, gamma1, \n",
    "           delta1, epsilon1, eta1, zeta1, step1, per, pop_coef1, \n",
    "            shoot_deer, introduce_wolf, title, scale, plot_prey)"
   ]
  },
  {
   "cell_type": "code",
   "execution_count": 55,
   "metadata": {
    "scrolled": false
   },
   "outputs": [
    {
     "data": {
      "application/vnd.jupyter.widget-view+json": {
       "model_id": "24f668ebe95d4464b65fee221d57003e",
       "version_major": 2,
       "version_minor": 0
      },
      "text/plain": [
       "interactive(children=(IntSlider(value=10, description='init_pred'), IntSlider(value=2500, description='init_pr…"
      ]
     },
     "metadata": {},
     "output_type": "display_data"
    }
   ],
   "source": [
    "def lotka_volterra(params, alpha1=alpha1, beta1=beta1, gamma1=gamma1, \n",
    "                   delta1=delta1, epsilon1=epsilon1, eta1=eta1, zeta1=zeta1):\n",
    "    \n",
    "    # unpack paramters from params\n",
    "    init_pred, init_prey1, init_prey12, step1, period1, pop_coef1, shoot_deer, introduce_wolf = params\n",
    "    \n",
    "    # Initialize arrays for number of animals in populations\n",
    "    pred = [init_pred]\n",
    "    prey1 = [init_prey1]\n",
    "    prey12 = [init_prey12]\n",
    "\n",
    "    num_pred = init_pred\n",
    "    num_prey1 = init_prey1\n",
    "    num_prey12 = init_prey12\n",
    "    \n",
    "    period = period1*365.25\n",
    "    pop_coeff = pop_coef1\n",
    "\n",
    "    # Update the number of animals time times and store them in arrays\n",
    "    for n in range(time):\n",
    "        dpred = pred_eq(gamma1, delta1, epsilon1, num_pred, num_prey1, num_prey12, step1)\n",
    "        dprey1 = prey1_eq(alpha1, beta1, num_pred, num_prey1, step1)\n",
    "        dprey12 = prey2_eq(eta1, zeta1, num_pred, num_prey12, step1)\n",
    "        num_pred += dpred\n",
    "        num_prey1 += dprey1\n",
    "        num_prey12 += dprey12\n",
    "        \n",
    "        # Following a couple of real life events that can occur. To simulate an event\n",
    "        # uncomment the event and run this cell again.\n",
    "        \n",
    "        # Regulation event 1. Every year prey regulation. \n",
    "        \n",
    "        # Shoot percentage of the deer every period.\n",
    "        if shoot_deer == \"percentage\" and (n % period == 0):\n",
    "            num_prey1 *= pop_coeff\n",
    "        \n",
    "        # Shoot a set amount of the deer every period.\n",
    "        elif shoot_deer == \"static\" and (n % period == 0):\n",
    "            if (num_prey1 > pop_coeff):\n",
    "                num_prey1 -= pop_coeff\n",
    "            else:\n",
    "                num_prey1 = 0\n",
    "        # Shoot a percentage of the growth every period.\n",
    "        elif shoot_deer == \"dynamic\" and (n % period == 0):\n",
    "            num_prey1 -= dprey1 * pop_coeff\n",
    "        \n",
    "        # gradual (monthly) introduction/increase of wolves.\n",
    "        # Start with 1 wolf and comment \n",
    "        if introduce_wolf and (n % period == 0):\n",
    "            num_pred += pop_coeff * 10\n",
    "        \n",
    "        pred.append(num_pred)\n",
    "        prey1.append(num_prey1)\n",
    "        prey12.append(num_prey12)\n",
    "    \n",
    "    return [pred, prey1, prey12]\n",
    "\n",
    "\n",
    "def update(init_pred, init_prey1, init_prey12, step1, period1, pop_coef1, \n",
    "            shoot_deer, introduce_wolf, title, scale, plot_prey):\n",
    "\n",
    "    params = [init_pred, init_prey1, init_prey12, step1, period1, \n",
    "              pop_coef1, shoot_deer, introduce_wolf]\n",
    "    \n",
    "    results = lotka_volterra(params)\n",
    "    \n",
    "    pred, prey1, prey12 = results\n",
    "    \n",
    "    # Plot the figure\n",
    "    t = range(int((time + 1) / scale))\n",
    "    t = [step1* x /\n",
    "         scale for x in t]\n",
    "    \n",
    "    # Correct dimensions of the list to prevent dimension\n",
    "    # errors during plotting.\n",
    "    last = int((len(pred) - 1) / scale)\n",
    "    if last > len(t):\n",
    "        last -= 1\n",
    "    elif last < len(t):\n",
    "        last += 1\n",
    "        \n",
    "    plot_figure(t, pred[0:last], prey1[0:last], prey12[0:last], title, plot_prey)\n",
    "    \n",
    "\n",
    "slider = setup_sliders(init_pred, init_prey1, init_prey12, \n",
    "                       alpha1, beta1, gamma1, delta1, epsilon1, \n",
    "                       eta1, zeta1, step1)\n",
    "\n",
    "interact_manual(update, init_pred=slider[0], init_prey1=slider[1], init_prey12=slider[2], step1=slider[10], \n",
    "                period1 = slider[11], pop_coef1 = 6000, \n",
    "                shoot_deer = [\"none\", \"percentage\", \"static\", \"dynamic\"], \n",
    "                introduce_wolf = False, title=\"Wolf-Roe deer-Wild boar model\",\n",
    "                scale = slider[13], plot_prey = slider[14]);"
   ]
  },
  {
   "cell_type": "code",
   "execution_count": 91,
   "metadata": {},
   "outputs": [
    {
     "name": "stdout",
     "output_type": "stream",
     "text": [
      "[16, 15, 14, 14, 13, 13, 12, 11, 10, 11, 10] \n",
      " [0.0, 0.1, 0.2, 0.30000000000000004, 0.4, 0.5, 0.6000000000000001, 0.7000000000000001, 0.8, 0.9, 1.0]\n"
     ]
    },
    {
     "data": {
      "image/png": "[encoded data removed]",
      "text/plain": [
       "<Figure size 432x288 with 1 Axes>"
      ]
     },
     "metadata": {
      "needs_background": "light"
     },
     "output_type": "display_data"
    },
    {
     "name": "stdout",
     "output_type": "stream",
     "text": [
      "[10, 9, 9, 9, 9, 9, 9, 10, 10, 10, 10] \n",
      " [0, 100, 200, 300, 400, 500, 600, 700, 800, 900, 1000]\n"
     ]
    },
    {
     "data": {
      "image/png": "[encoded data removed]",
      "text/plain": [
       "<Figure size 432x288 with 1 Axes>"
      ]
     },
     "metadata": {
      "needs_background": "light"
     },
     "output_type": "display_data"
    },
    {
     "name": "stdout",
     "output_type": "stream",
     "text": [
      "[10, 16, 15, 19, 13, 14, 17, 21, 19, 16, 15] \n",
      " [0.0, 0.1, 0.2, 0.30000000000000004, 0.4, 0.5, 0.6000000000000001, 0.7000000000000001, 0.8, 0.9, 1.0]\n"
     ]
    },
    {
     "data": {
      "image/png": "[encoded data removed]",
      "text/plain": [
       "<Figure size 432x288 with 1 Axes>"
      ]
     },
     "metadata": {
      "needs_background": "light"
     },
     "output_type": "display_data"
    },
    {
     "name": "stdout",
     "output_type": "stream",
     "text": [
      "[16, 15, 14, 13, 12, 11, 11, 10, 10, 10, 11] \n",
      " [0.0, 0.1, 0.2, 0.30000000000000004, 0.4, 0.5, 0.6000000000000001, 0.7000000000000001, 0.8, 0.9, 1.0]\n"
     ]
    },
    {
     "data": {
      "image/png": "[encoded data removed]",
      "text/plain": [
       "<Figure size 432x288 with 1 Axes>"
      ]
     },
     "metadata": {
      "needs_background": "light"
     },
     "output_type": "display_data"
    },
    {
     "name": "stdout",
     "output_type": "stream",
     "text": [
      "[10, 10, 10, 10, 10, 10, 10, 10, 10, 10, 10] \n",
      " [0.0, 0.1, 0.2, 0.30000000000000004, 0.4, 0.5, 0.6000000000000001, 0.7000000000000001, 0.8, 0.9, 1.0]\n"
     ]
    },
    {
     "data": {
      "image/png": "[encoded data removed]",
      "text/plain": [
       "<Figure size 432x288 with 1 Axes>"
      ]
     },
     "metadata": {
      "needs_background": "light"
     },
     "output_type": "display_data"
    }
   ],
   "source": [
    "def get_periodicity(data, height=150, index=0):\n",
    "    ''' returns the amount of peaks (periods) in data '''\n",
    "    return len(scipy.signal.find_peaks(data, height=height)[index])\n",
    "\n",
    "def periodicity(index, p_min, p_max, steps, params):\n",
    "    results = []\n",
    "    step_size = (p_max - p_min) / steps\n",
    "    \n",
    "    while p_min <= p_max:\n",
    "        params[5] = p_min\n",
    "        num_periods = get_periodicity((lotka_volterra(params)[index]))\n",
    "        results.append(num_periods)\n",
    "        p_min += step_size\n",
    "    \n",
    "    return results\n",
    "\n",
    "def periodicity_winters(a_min, a_max, e_min, e_max, steps, params):\n",
    "    a_results = []\n",
    "    e_results = []\n",
    "    a_step_size = (a_max - a_min) / steps\n",
    "    e_step_size = (e_max - e_min) / steps\n",
    "    \n",
    "    while a_min <= a_max:\n",
    "        num_periods = get_periodicity((lotka_volterra(params, alpha1=a_min)[0]))\n",
    "        a_results.append(num_periods)\n",
    "        a_min += a_step_size\n",
    "    \n",
    "    while e_min <= e_max:\n",
    "        num_periods = get_periodicity((lotka_volterra(params, eta1=e_min)[0]))\n",
    "        e_results.append(num_periods)\n",
    "        e_min += e_step_size\n",
    "    \n",
    "    return a_results, e_results\n",
    "\n",
    "\n",
    "def plot_stats(results, start, end, steps):\n",
    "    x_range = list(np.arange(start, end+steps, steps))\n",
    "    print(results, \"\\n\", x_range)\n",
    "    plt.plot(x_range, results)\n",
    "    plt.show()\n",
    "    return\n",
    "\n",
    "# shoot percentage\n",
    "params_p = [init_pred, init_prey1, init_prey12, step1, 1, 0.9, 'percentage', False]\n",
    "results = periodicity(0, 0, 1, 10, params_p)\n",
    "plot_stats(results, 0, 1, 0.1)\n",
    "\n",
    "# shoot set amount\n",
    "params_s = [init_pred, init_prey1, init_prey12, step1, 1, 0.9, 'static', False]\n",
    "results = periodicity(0, 0, 1000, 10, params_s)\n",
    "plot_stats(results, 0, 1000, 100)\n",
    "\n",
    "# introduce wolves\n",
    "params_i = [init_pred, init_prey1, init_prey12, step1, 1, 0.9, 'none', True]\n",
    "results = periodicity(0, 0, 1, 10, params_i)\n",
    "plot_stats(results, 0, 1, 0.1)\n",
    "\n",
    "# severe winters\n",
    "params_w = [init_pred, init_prey1, init_prey12, step1, 1, 0.9, 'none', False]\n",
    "a_results, e_results = periodicity_winters(0, 1, 0, 1, 10, params_w)\n",
    "plot_stats(a_results, 0, 1, 0.1)\n",
    "plot_stats(e_results, 0, 1, 0.1)"
   ]
  },
  {
   "cell_type": "markdown",
   "metadata": {},
   "source": [
    "# Model Veryfication"
   ]
  },
  {
   "cell_type": "code",
   "execution_count": null,
   "metadata": {},
   "outputs": [],
   "source": [
    "# If any initial population is 0 and they are not introduced, it should stay 0 always.\n",
    "title = \"If any initial population is 0 and they are not introduced,\\n it should stay 0 always.\"\n",
    "scale = 1\n",
    "plot_prey = True\n",
    "veryfication(0, 0, 0, alpha1, beta1, gamma1, \n",
    "           delta1, epsilon1, eta1, zeta1, step1, 365, 0.9, \n",
    "            False, False, title, scale, plot_prey)\n",
    "\n",
    "# If the initial predator population is 0 and the initial prey population are >0, \n",
    "# then the prey should grow indefinitely.\n",
    "title = \"If the initial predator population is 0 and the initial prey population are >0,\\n then the prey should grow indefinitely (Roe Deer).\" \n",
    "        \n",
    "veryfication(0, 10, 0, alpha1, beta1, gamma1, \n",
    "           delta1, epsilon1, eta1, zeta1, step1, 365, 0.9, \n",
    "            False, False, title, scale, plot_prey)\n",
    "\n",
    "title = \"If the initial predator population is 0 and the initial prey population are >0,\\n then the prey should grow indefinitely (Wild Boar).\" \n",
    "# If the initial predator population is 0 and the initial prey population are >0, \n",
    "# then the prey should grow indefinitely.\n",
    "veryfication(0, 0, 10, alpha1, beta1, gamma1, \n",
    "           delta1, epsilon1, eta1, zeta1, step1, 365, 0.9, \n",
    "            False, False, title, scale, plot_prey)\n",
    "\n",
    "title = \"If the initial prey populations are 0 and the initial predator population is >0,\\n the predator population should die out quickly (2 weeks[1])\"\n",
    "# If the initial prey populations are 0 and the initial predator population is >0, \n",
    "# the predator population should die out quickly (2 weeks[1])\n",
    "veryfication(1000, 0, 0, alpha1, beta1, gamma1, \n",
    "           delta1, epsilon1, eta1, zeta1, step1, 365, 0.9, \n",
    "            False, False, title, scale, plot_prey)\n",
    "\n",
    "\n",
    "# If the initial prey populations are way bigger than the initial predator population,\n",
    "# the predator population must grow quickly in the beginning.\n",
    "title = \"If the initial prey populations are way bigger than the initial predator population,\\n the predator population must grow quickly in the beginning.\"\n",
    "scale = 60\n",
    "plot_prey = False\n",
    "veryfication(50, 1000, 1000, alpha1, beta1, gamma1, \n",
    "           delta1, epsilon1, eta1, zeta1, step1, 365, 0.9, \n",
    "            False, False, title, scale, plot_prey)\n",
    "\n",
    "# If the initial prey populations are way bigger than the initial predator population, the predator population must grow quickly in the beginning\n",
    "# If the initial predator population is way bigger than the initial prey populations, the predator population must decrease quickly in the beginning\n",
    "# If we introduce prey, in the middle of the simulation, the predator population should increase immediately\n",
    "# If we introduce predators, in the middle of the simulation, the growth of the prey population should decrease \n",
    "# The 2 prey populations do not affect each other. If the initial predator population is 0, the prey populations do not show peak and valleys but are exponentially increasing lines\n",
    "# If part of the predator population is shot each period, the average amount of prey in the simulation should be higher than when no predator is shot at all\n",
    "# If a certain amount of predators is introduced each period, the average amount of prey in the simulation should be lower than when no predator is introduced at all\n",
    "# If part of both prey population is shot each year, the average amount of prey and predators should be lower than when no prey are shot at all\n"
   ]
  },
  {
   "cell_type": "markdown",
   "metadata": {},
   "source": [
    "### Wild Boar and Wolf"
   ]
  },
  {
   "cell_type": "code",
   "execution_count": null,
   "metadata": {},
   "outputs": [],
   "source": [
    "# Wild boar and wolf\n",
    "alpha2 = 6.22 # Birth rate prey \n",
    "beta2 = 12.4 / 182.75  # Death rate prey\n",
    "gamma2 = 25/26 # Death rate predator\n",
    "delta2 = 0.0356 # Grow rate predator\n",
    "\n",
    "# Time * step = amount of years simulated\n",
    "time2 = 1000000 \n",
    "step2 = 0.0001\n",
    "\n",
    "# Initial populations\n",
    "init_pred2 = 1\n",
    "init_prey2 = 500"
   ]
  },
  {
   "cell_type": "code",
   "execution_count": null,
   "metadata": {},
   "outputs": [],
   "source": [
    "def update(init_pred2, init_prey2, alpha2, beta2, gamma2, delta2, step2):\n",
    "    pred2 = [init_pred2]\n",
    "    prey2 = [init_prey2]\n",
    "\n",
    "    num_pred2 = init_pred2\n",
    "    num_prey2 = init_prey2\n",
    "\n",
    "    for n in range(time):\n",
    "        dpred2 = pred_eq(gamma2, delta2, num_pred2, num_prey2, step2)\n",
    "        dprey2 = prey1_eq(alpha2, beta2, num_pred2, num_prey2, step2)\n",
    "        num_pred2 += dpred2\n",
    "        num_prey2 += dprey2\n",
    "        pred2.append(num_pred2)\n",
    "        prey2.append(num_prey2)\n",
    "\n",
    "    t2 = range(time2+1)\n",
    "    t2 = [step2*x for x in t2]\n",
    "\n",
    "    plt.figure(figsize=(12,8))\n",
    "    plt.plot(t2, pred2)\n",
    "    plt.plot(t2, prey2)\n",
    "    plt.ylabel('Number of animals')\n",
    "    plt.xlabel('Time (years)')\n",
    "    plt.title('Wolf-Wild boar model', fontsize=20)\n",
    "    plt.legend(['Wolf', 'Wild boar'], loc='upper left')\n",
    "    plt.show()\n",
    "\n",
    "ipred2_slider = widgets.IntSlider(value=1, min=0, max=100, step=1)\n",
    "iprey2_slider = widgets.IntSlider(value=500, min=0, max=300, step=1)\n",
    "a2_slider = widgets.FloatSlider(value=6.22, min=0, max=1, step=0.01)\n",
    "b2_slider = widgets.FloatSlider(value=12.4/182.75, min=0, max=1, step=0.01)\n",
    "g2_slider = widgets.FloatSlider(value=25/26, min=0, max=1, step=0.01)\n",
    "d2_slider = widgets.FloatSlider(value=0.0356, min=0, max=1, step=0.01)\n",
    "s2_slider = widgets.FloatSlider(value=0.0001, min=0, max=10, step=0.001)\n",
    "\n",
    "# interact_manual(update, init_pred2=ipred2_slider, init_prey2=iprey2_slider, alpha2 = a2_slider,\n",
    "#                 beta2 = b2_slider, gamma2 = g2_slider, delta2 = d2_slider, step2=s2_slider);"
   ]
  },
  {
   "cell_type": "markdown",
   "metadata": {},
   "source": [
    "### Lotka-Volterra Vector Field (Stable Point Visualization) "
   ]
  },
  {
   "cell_type": "code",
   "execution_count": null,
   "metadata": {},
   "outputs": [],
   "source": [
    "alpha3 = 9/11 # Birth rate prey \n",
    "beta3 = 48.6/365.25 # Death rate prey\n",
    "gamma3 = 25/26 # Death rate predator\n",
    "delta3 = 0.0356 # Grow rate predator\n",
    "\n",
    "max_prey = 50 # Maximum begin population of prey\n",
    "max_pred = 15 # Maximum begin population of predators\n",
    "\n",
    "arrow_density = 2 # number of arrows per 1 unit\n",
    "\n",
    "# Make a sample starting point\n",
    "sample_pred = 7\n",
    "sample_prey = 29\n",
    "sample_length = 400\n",
    "sample_step = 0.1\n",
    "arrows = True\n",
    "arrow_distance = 10"
   ]
  },
  {
   "cell_type": "code",
   "execution_count": null,
   "metadata": {},
   "outputs": [],
   "source": [
    "def update(alpha3, beta3, gamma3, delta3, max_prey, max_pred, arrow_density,\n",
    "          sample_pred, sample_prey, sample_length, sample_step, arrows, arrow_distance):\n",
    "    \n",
    "    X, Y = np.meshgrid(np.arange(0, max_prey, 1/arrow_density), np.arange(0, max_pred, 1/arrow_density))\n",
    "\n",
    "    stable_pred = alpha3 / beta3 # Stable initial population of predators\n",
    "    stable_prey = gamma3 / delta3 # Stable initial population of prey\n",
    "    print('The stable point (besides (0,0)) is at %.2f initial preys and %.2f initial predators.' % (stable_prey, stable_pred))\n",
    "\n",
    "    # Check stability in formulas\n",
    "    print('Predator difference (should be 0): %.2f' % pred_eq(gamma3, delta3, stable_pred, stable_prey, 1))\n",
    "    print('Prey difference (should be 0): %.2f' % prey1_eq(alpha3, beta3, stable_pred, stable_prey, 1))\n",
    "\n",
    "    U = np.zeros(X.shape)\n",
    "    V = np.zeros(X.shape)\n",
    "\n",
    "    for r in range(max_prey * arrow_density):\n",
    "        for c in range(max_pred * arrow_density):\n",
    "            U[c][r] = prey1_eq(alpha3, beta3, c/arrow_density, r/arrow_density, 1) \n",
    "            V[c][r] = pred_eq(gamma3, delta3, c/arrow_density, r/arrow_density, 1) \n",
    "            norm = np.sqrt((U[c][r])**2 + (V[c][r])**2)\n",
    "            if norm != 0:\n",
    "                U[c][r] = U[c][r] / norm\n",
    "                V[c][r] = V[c][r] / norm\n",
    "\n",
    "    s_prey = [sample_prey]\n",
    "    s_pred = [sample_pred]\n",
    "    for t in range(sample_length):\n",
    "        cur_prey = s_prey[-1]\n",
    "        cur_pred = s_pred[-1]\n",
    "        s_prey.append(cur_prey + prey1_eq(alpha3, beta3, cur_pred, cur_prey, sample_step))\n",
    "        s_pred.append(cur_pred + pred_eq(gamma3, delta3, cur_pred, cur_prey, sample_step))\n",
    "\n",
    "    plt.figure(figsize=(15,14))\n",
    "    plt.quiver(X, Y, U, V, scale=90, width=0.0015, color='b') # bigger scale is smaller arrows\n",
    "\n",
    "    # Draw the sample line\n",
    "    plt.plot(s_prey, s_pred, 'r-')\n",
    "\n",
    "    # Draw starting point as a dot\n",
    "    plt.plot(sample_prey, sample_pred, 'ro')\n",
    "\n",
    "    # Draw arrows in line \n",
    "    if arrows:\n",
    "        for i in range(9, sample_length, arrow_distance):\n",
    "            if i+1 < sample_length:\n",
    "                plt.arrow(s_prey[i], s_pred[i], s_prey[i+1]-s_prey[i], s_pred[i+1]-s_pred[i], color='r', head_width=0.2)\n",
    "\n",
    "    plt.legend([\"Example start point (%d prey, %d predators)\" % (sample_prey, sample_pred)])\n",
    "    plt.ylabel('Predator population')\n",
    "    plt.xlabel('Prey population')\n",
    "    plt.title('Vector Field of Lotka-Volterra equation', fontsize=20)\n",
    "    plt.show()\n",
    "\n",
    "\n",
    "a3_slider = widgets.FloatSlider(value=9/11, min=0, max=1, step=0.01)\n",
    "b3_slider = widgets.FloatSlider(value=48.6/365.25, min=0, max=1, step=0.01)\n",
    "g3_slider = widgets.FloatSlider(value=25/26, min=0, max=1, step=0.01)\n",
    "d3_slider = widgets.FloatSlider(value=0.0356, min=0, max=1, step=0.01)\n",
    "maxpred_slider = widgets.IntSlider(value=50, min=0, max=100, step=1)\n",
    "maxprey_slider = widgets.IntSlider(value=15, min=0, max=300, step=1)\n",
    "\n",
    "arrowdense_slider = widgets.IntSlider(value=2, min=0, max=10, step=1)\n",
    "\n",
    "sampred_slider = widgets.IntSlider(value=7, min=0, max=100, step=1)\n",
    "samprey_slider = widgets.IntSlider(value=29, min=0, max=100, step=1)\n",
    "samplen_slider = widgets.IntSlider(value=400, min=0, max=1000, step=10)\n",
    "\n",
    "sampstep_slider = widgets.FloatSlider(value=0.1, min=0, max=10, step=0.001)\n",
    "arrowdist_slider = widgets.IntSlider(value=10, min=0, max=100, step=1)\n",
    "\n",
    "# interact_manual(update, alpha3=a3_slider, beta3=b3_slider, gamma3=g3_slider, delta3=d3_slider, \n",
    "#                 max_prey=maxprey_slider, max_pred=maxpred_slider, arrow_density=arrowdense_slider,\n",
    "#                 sample_pred=sampred_slider, sample_prey=samprey_slider, sample_length=samplen_slider, \n",
    "#                 sample_step=sampstep_slider, arrows=True, arrow_distance=arrowdist_slider);"
   ]
  },
  {
   "cell_type": "code",
   "execution_count": null,
   "metadata": {},
   "outputs": [],
   "source": [
    "r = np.array([9/11, 6.22, 25/26])\n",
    "A = np.array([[1, 0, -48.6/365.25], [0, 1, ], []])"
   ]
  }
 ],
 "metadata": {
  "kernelspec": {
   "display_name": "Python 3",
   "language": "python",
   "name": "python3"
  },
  "language_info": {
   "codemirror_mode": {
    "name": "ipython",
    "version": 3
   },
   "file_extension": ".py",
   "mimetype": "text/x-python",
   "name": "python",
   "nbconvert_exporter": "python",
   "pygments_lexer": "ipython3",
   "version": "3.7.1"
  }
 },
 "nbformat": 4,
 "nbformat_minor": 2
}
